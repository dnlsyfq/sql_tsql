{
 "cells": [
  {
   "cell_type": "markdown",
   "metadata": {},
   "source": [
    "Posts table"
   ]
  },
  {
   "cell_type": "markdown",
   "metadata": {},
   "source": [
    "|Column|Desc|\n",
    "|---|---|\n",
    "|Id| An identification number for the post.|\n",
    "|PostTypeId| An identification number for the type of post.|\n",
    "|CreationDate| The date and time of creation of the post.|\n",
    "|Score| The post's score.|\n",
    "|ViewCount| How many times the post was viewed.|\n",
    "|Tags| What tags were used.|\n",
    "|AnswerCount| How many answers the question got (only applicable to question posts).|\n",
    "|FavoriteCount| How many times the question was favored (only applicable to question posts).|"
   ]
  },
  {
   "cell_type": "code",
   "execution_count": 13,
   "metadata": {},
   "outputs": [],
   "source": [
    "import pandas as pd\n",
    "import numpy as np"
   ]
  },
  {
   "cell_type": "code",
   "execution_count": 2,
   "metadata": {},
   "outputs": [
    {
     "output_type": "stream",
     "name": "stdout",
     "text": "Volume in drive C has no label.\n Volume Serial Number is E070-DF93\n\n Directory of c:\\Users\\Dan\\Code\\SQL\\sql_tsql\n\n22/03/2020  01:31 AM    <DIR>          .\n22/03/2020  01:31 AM    <DIR>          ..\n21/03/2020  06:23 PM             1,307 .gitignore\n21/03/2020  08:45 PM    <DIR>          .ipynb_checkpoints\n21/03/2020  08:43 PM        21,782,673 QueryResults.csv\n21/03/2020  08:45 PM               438 README.md\n22/03/2020  01:31 AM            17,827 Workbook.ipynb\n               4 File(s)     21,802,245 bytes\n               3 Dir(s)  68,125,847,552 bytes free\n"
    }
   ],
   "source": [
    "ls"
   ]
  },
  {
   "cell_type": "code",
   "execution_count": 3,
   "metadata": {},
   "outputs": [],
   "source": [
    "df = pd.read_csv('QueryResults.csv',parse_dates=['CreationDate','DeletionDate','LastEditDate','LastActivityDate'])"
   ]
  },
  {
   "cell_type": "code",
   "execution_count": 4,
   "metadata": {},
   "outputs": [
    {
     "output_type": "execute_result",
     "data": {
      "text/plain": "      Id  PostTypeId  AcceptedAnswerId  ParentId        CreationDate  \\\n0  54432           1               NaN       NaN 2019-06-25 06:46:58   \n1  54433           1               NaN       NaN 2019-06-25 07:04:37   \n2  54434           2               NaN   54427.0 2019-06-25 07:10:30   \n3  54435           2               NaN   54401.0 2019-06-25 07:11:14   \n4  54436           1           54505.0       NaN 2019-06-25 07:29:41   \n\n  DeletionDate  Score  ViewCount  \\\n0          NaT      0       44.0   \n1          NaT      1       38.0   \n2          NaT      1        NaN   \n3          NaT      0        NaN   \n4          NaT      0     1885.0   \n\n                                                Body  OwnerUserId  \\\n0  <p>I want to create a model to infer the behav...      66758.0   \n1  <p>I was wondering if there are any rules rega...      76617.0   \n2  <p>You haven't specified what happens for valu...      51280.0   \n3  <p>I think this approach should work. So we ne...      68023.0   \n4  <pre class=\"lang-py prettyprint-override\"><cod...      76521.0   \n\n          ...         LastEditorDisplayName        LastEditDate  \\\n0         ...                           NaN 2019-06-26 13:25:35   \n1         ...                           NaN                 NaT   \n2         ...                           NaN                 NaT   \n3         ...                           NaN                 NaT   \n4         ...                           NaN 2019-06-25 13:51:50   \n\n     LastActivityDate                                              Title  \\\n0 2019-06-26 13:25:36  Inferring latent variable distribution from bi...   \n1 2019-06-25 08:31:18  Are there any rules regarding correlation betw...   \n2 2019-06-25 07:10:30                                                NaN   \n3 2019-06-25 07:11:14                                                NaN   \n4 2019-06-26 00:25:12  ValueError: pos_label=1 is not a valid label: ...   \n\n                                                Tags AnswerCount CommentCount  \\\n0       <neural-network><classification><regression>         0.0            4   \n1  <neural-network><predictive-modeling><correlat...         1.0            1   \n2                                                NaN         NaN            0   \n3                                                NaN         NaN            0   \n4  <machine-learning><python><data><data-analysis...         1.0            0   \n\n   FavoriteCount  ClosedDate  CommunityOwnedDate  \n0            NaN         NaN                 NaN  \n1            NaN         NaN                 NaN  \n2            NaN         NaN                 NaN  \n3            NaN         NaN                 NaN  \n4            NaN         NaN                 NaN  \n\n[5 rows x 22 columns]",
      "text/html": "<div>\n<style scoped>\n    .dataframe tbody tr th:only-of-type {\n        vertical-align: middle;\n    }\n\n    .dataframe tbody tr th {\n        vertical-align: top;\n    }\n\n    .dataframe thead th {\n        text-align: right;\n    }\n</style>\n<table border=\"1\" class=\"dataframe\">\n  <thead>\n    <tr style=\"text-align: right;\">\n      <th></th>\n      <th>Id</th>\n      <th>PostTypeId</th>\n      <th>AcceptedAnswerId</th>\n      <th>ParentId</th>\n      <th>CreationDate</th>\n      <th>DeletionDate</th>\n      <th>Score</th>\n      <th>ViewCount</th>\n      <th>Body</th>\n      <th>OwnerUserId</th>\n      <th>...</th>\n      <th>LastEditorDisplayName</th>\n      <th>LastEditDate</th>\n      <th>LastActivityDate</th>\n      <th>Title</th>\n      <th>Tags</th>\n      <th>AnswerCount</th>\n      <th>CommentCount</th>\n      <th>FavoriteCount</th>\n      <th>ClosedDate</th>\n      <th>CommunityOwnedDate</th>\n    </tr>\n  </thead>\n  <tbody>\n    <tr>\n      <th>0</th>\n      <td>54432</td>\n      <td>1</td>\n      <td>NaN</td>\n      <td>NaN</td>\n      <td>2019-06-25 06:46:58</td>\n      <td>NaT</td>\n      <td>0</td>\n      <td>44.0</td>\n      <td>&lt;p&gt;I want to create a model to infer the behav...</td>\n      <td>66758.0</td>\n      <td>...</td>\n      <td>NaN</td>\n      <td>2019-06-26 13:25:35</td>\n      <td>2019-06-26 13:25:36</td>\n      <td>Inferring latent variable distribution from bi...</td>\n      <td>&lt;neural-network&gt;&lt;classification&gt;&lt;regression&gt;</td>\n      <td>0.0</td>\n      <td>4</td>\n      <td>NaN</td>\n      <td>NaN</td>\n      <td>NaN</td>\n    </tr>\n    <tr>\n      <th>1</th>\n      <td>54433</td>\n      <td>1</td>\n      <td>NaN</td>\n      <td>NaN</td>\n      <td>2019-06-25 07:04:37</td>\n      <td>NaT</td>\n      <td>1</td>\n      <td>38.0</td>\n      <td>&lt;p&gt;I was wondering if there are any rules rega...</td>\n      <td>76617.0</td>\n      <td>...</td>\n      <td>NaN</td>\n      <td>NaT</td>\n      <td>2019-06-25 08:31:18</td>\n      <td>Are there any rules regarding correlation betw...</td>\n      <td>&lt;neural-network&gt;&lt;predictive-modeling&gt;&lt;correlat...</td>\n      <td>1.0</td>\n      <td>1</td>\n      <td>NaN</td>\n      <td>NaN</td>\n      <td>NaN</td>\n    </tr>\n    <tr>\n      <th>2</th>\n      <td>54434</td>\n      <td>2</td>\n      <td>NaN</td>\n      <td>54427.0</td>\n      <td>2019-06-25 07:10:30</td>\n      <td>NaT</td>\n      <td>1</td>\n      <td>NaN</td>\n      <td>&lt;p&gt;You haven't specified what happens for valu...</td>\n      <td>51280.0</td>\n      <td>...</td>\n      <td>NaN</td>\n      <td>NaT</td>\n      <td>2019-06-25 07:10:30</td>\n      <td>NaN</td>\n      <td>NaN</td>\n      <td>NaN</td>\n      <td>0</td>\n      <td>NaN</td>\n      <td>NaN</td>\n      <td>NaN</td>\n    </tr>\n    <tr>\n      <th>3</th>\n      <td>54435</td>\n      <td>2</td>\n      <td>NaN</td>\n      <td>54401.0</td>\n      <td>2019-06-25 07:11:14</td>\n      <td>NaT</td>\n      <td>0</td>\n      <td>NaN</td>\n      <td>&lt;p&gt;I think this approach should work. So we ne...</td>\n      <td>68023.0</td>\n      <td>...</td>\n      <td>NaN</td>\n      <td>NaT</td>\n      <td>2019-06-25 07:11:14</td>\n      <td>NaN</td>\n      <td>NaN</td>\n      <td>NaN</td>\n      <td>0</td>\n      <td>NaN</td>\n      <td>NaN</td>\n      <td>NaN</td>\n    </tr>\n    <tr>\n      <th>4</th>\n      <td>54436</td>\n      <td>1</td>\n      <td>54505.0</td>\n      <td>NaN</td>\n      <td>2019-06-25 07:29:41</td>\n      <td>NaT</td>\n      <td>0</td>\n      <td>1885.0</td>\n      <td>&lt;pre class=\"lang-py prettyprint-override\"&gt;&lt;cod...</td>\n      <td>76521.0</td>\n      <td>...</td>\n      <td>NaN</td>\n      <td>2019-06-25 13:51:50</td>\n      <td>2019-06-26 00:25:12</td>\n      <td>ValueError: pos_label=1 is not a valid label: ...</td>\n      <td>&lt;machine-learning&gt;&lt;python&gt;&lt;data&gt;&lt;data-analysis...</td>\n      <td>1.0</td>\n      <td>0</td>\n      <td>NaN</td>\n      <td>NaN</td>\n      <td>NaN</td>\n    </tr>\n  </tbody>\n</table>\n<p>5 rows × 22 columns</p>\n</div>"
     },
     "metadata": {},
     "execution_count": 4
    }
   ],
   "source": [
    "df.head()"
   ]
  },
  {
   "cell_type": "code",
   "execution_count": 5,
   "metadata": {},
   "outputs": [
    {
     "output_type": "execute_result",
     "data": {
      "text/plain": "Id                           0\nPostTypeId                   0\nAcceptedAnswerId         14350\nParentId                  8758\nCreationDate                 0\nDeletionDate             16534\nScore                        0\nViewCount                 7966\nBody                        59\nOwnerUserId                 61\nOwnerDisplayName         16452\nLastEditorUserId         11126\nLastEditorDisplayName    16517\nLastEditDate             11110\nLastActivityDate             0\nTitle                     7966\nTags                      7966\nAnswerCount               7966\nCommentCount                 0\nFavoriteCount            15075\nClosedDate               16214\nCommunityOwnedDate       16509\ndtype: int64"
     },
     "metadata": {},
     "execution_count": 5
    }
   ],
   "source": [
    "df.isna().sum()"
   ]
  },
  {
   "cell_type": "code",
   "execution_count": 6,
   "metadata": {},
   "outputs": [
    {
     "output_type": "stream",
     "name": "stdout",
     "text": "<class 'pandas.core.frame.DataFrame'>\nRangeIndex: 16534 entries, 0 to 16533\nData columns (total 22 columns):\nId                       16534 non-null int64\nPostTypeId               16534 non-null int64\nAcceptedAnswerId         2184 non-null float64\nParentId                 7776 non-null float64\nCreationDate             16534 non-null datetime64[ns]\nDeletionDate             0 non-null datetime64[ns]\nScore                    16534 non-null int64\nViewCount                8568 non-null float64\nBody                     16475 non-null object\nOwnerUserId              16473 non-null float64\nOwnerDisplayName         82 non-null object\nLastEditorUserId         5408 non-null float64\nLastEditorDisplayName    17 non-null object\nLastEditDate             5424 non-null datetime64[ns]\nLastActivityDate         16534 non-null datetime64[ns]\nTitle                    8568 non-null object\nTags                     8568 non-null object\nAnswerCount              8568 non-null float64\nCommentCount             16534 non-null int64\nFavoriteCount            1459 non-null float64\nClosedDate               320 non-null object\nCommunityOwnedDate       25 non-null object\ndtypes: datetime64[ns](4), float64(7), int64(4), object(7)\nmemory usage: 2.8+ MB\n"
    }
   ],
   "source": [
    "df.info()"
   ]
  },
  {
   "cell_type": "code",
   "execution_count": 7,
   "metadata": {},
   "outputs": [
    {
     "output_type": "execute_result",
     "data": {
      "text/plain": "array(['<neural-network><classification><regression>',\n       '<neural-network><predictive-modeling><correlation>', nan, ...,\n       '<deep-learning><lstm><rnn><recurrent-neural-net>',\n       '<data-cleaning><sql>',\n       '<regression><linear-regression><feature-engineering>'],\n      dtype=object)"
     },
     "metadata": {},
     "execution_count": 7
    }
   ],
   "source": [
    "df.Tags.unique()"
   ]
  },
  {
   "cell_type": "code",
   "execution_count": 8,
   "metadata": {},
   "outputs": [],
   "source": [
    "df.Tags = df.Tags.str.replace('><',',').str.replace('<','').str.replace('>','')"
   ]
  },
  {
   "cell_type": "code",
   "execution_count": 9,
   "metadata": {},
   "outputs": [
    {
     "output_type": "stream",
     "name": "stdout",
     "text": "<class 'pandas.core.frame.DataFrame'>\nRangeIndex: 16534 entries, 0 to 16533\nData columns (total 22 columns):\nId                       16534 non-null int64\nPostTypeId               16534 non-null int64\nAcceptedAnswerId         2184 non-null float64\nParentId                 7776 non-null float64\nCreationDate             16534 non-null datetime64[ns]\nDeletionDate             0 non-null datetime64[ns]\nScore                    16534 non-null int64\nViewCount                8568 non-null float64\nBody                     16475 non-null object\nOwnerUserId              16473 non-null float64\nOwnerDisplayName         82 non-null object\nLastEditorUserId         5408 non-null float64\nLastEditorDisplayName    17 non-null object\nLastEditDate             5424 non-null datetime64[ns]\nLastActivityDate         16534 non-null datetime64[ns]\nTitle                    8568 non-null object\nTags                     8568 non-null object\nAnswerCount              8568 non-null float64\nCommentCount             16534 non-null int64\nFavoriteCount            1459 non-null float64\nClosedDate               320 non-null object\nCommunityOwnedDate       25 non-null object\ndtypes: datetime64[ns](4), float64(7), int64(4), object(7)\nmemory usage: 2.8+ MB\n"
    }
   ],
   "source": [
    "df.info()"
   ]
  },
  {
   "cell_type": "code",
   "execution_count": 41,
   "metadata": {},
   "outputs": [],
   "source": [
    "df.ViewCount = df.ViewCount.fillna(0)\n",
    "df.ViewCount = df.ViewCount.astype('int')\n",
    "df.AnswerCount = df.ViewCount.fillna(0)\n",
    "df.AnswerCount = df.ViewCount.astype('int')\n",
    "df.FavoriteCount = df.ViewCount.fillna(0)\n",
    "df.FavoriteCount = df.ViewCount.astype('int')"
   ]
  },
  {
   "cell_type": "code",
   "execution_count": 34,
   "metadata": {},
   "outputs": [],
   "source": [
    "# df.ViewCount[df.ViewCount.isna() == False] = df.ViewCount[df.ViewCount.isna() == False].astype('int')"
   ]
  },
  {
   "cell_type": "markdown",
   "metadata": {},
   "source": [
    "## Drop NA"
   ]
  },
  {
   "cell_type": "code",
   "execution_count": 71,
   "metadata": {},
   "outputs": [
    {
     "output_type": "execute_result",
     "data": {
      "text/plain": "array([nan], dtype=object)"
     },
     "metadata": {},
     "execution_count": 71
    }
   ],
   "source": [
    "df.Tags[df.Tags.isnull()].unique()"
   ]
  },
  {
   "cell_type": "code",
   "execution_count": 73,
   "metadata": {},
   "outputs": [],
   "source": [
    "df.Tags.dropna(inplace=True)"
   ]
  },
  {
   "cell_type": "markdown",
   "metadata": {},
   "source": [
    "## Count how many times each tag was used."
   ]
  },
  {
   "cell_type": "code",
   "execution_count": 87,
   "metadata": {
    "tags": [
     "outputPrepend",
     "outputPrepend",
     "outputPrepend"
    ]
   },
   "outputs": [],
   "source": [
    "tags = []\n",
    "for i in df.Tags.tolist():\n",
    "    i = i.split(\",\")\n",
    "    tags += i"
   ]
  },
  {
   "cell_type": "code",
   "execution_count": 95,
   "metadata": {},
   "outputs": [],
   "source": [
    "tags_dict = {}\n",
    "for i in tags:\n",
    "    if i not in tags_dict:\n",
    "        tags_dict[i] = 1\n",
    "    else:\n",
    "        tags_dict[i] += 1\n",
    ""
   ]
  },
  {
   "cell_type": "code",
   "execution_count": 120,
   "metadata": {},
   "outputs": [],
   "source": [
    "df_tags_count = pd.DataFrame.from_dict(tags_dict,orient='index').reset_index()\n",
    ""
   ]
  },
  {
   "cell_type": "code",
   "execution_count": 121,
   "metadata": {
    "tags": [
     "outputPrepend"
    ]
   },
   "outputs": [],
   "source": [
    "df_tags_count.rename(index=str,columns={'index':'tag',0:'count'},inplace=True)"
   ]
  },
  {
   "cell_type": "code",
   "execution_count": 125,
   "metadata": {},
   "outputs": [
    {
     "output_type": "execute_result",
     "data": {
      "text/plain": "                 tag  count\n5   machine-learning   2621\n6             python   1766\n10     deep-learning   1173\n0     neural-network   1032\n16             keras    913\n1     classification    666\n17        tensorflow    569\n46      scikit-learn    527\n34               nlp    480\n13               cnn    475",
      "text/html": "<div>\n<style scoped>\n    .dataframe tbody tr th:only-of-type {\n        vertical-align: middle;\n    }\n\n    .dataframe tbody tr th {\n        vertical-align: top;\n    }\n\n    .dataframe thead th {\n        text-align: right;\n    }\n</style>\n<table border=\"1\" class=\"dataframe\">\n  <thead>\n    <tr style=\"text-align: right;\">\n      <th></th>\n      <th>tag</th>\n      <th>count</th>\n    </tr>\n  </thead>\n  <tbody>\n    <tr>\n      <th>5</th>\n      <td>machine-learning</td>\n      <td>2621</td>\n    </tr>\n    <tr>\n      <th>6</th>\n      <td>python</td>\n      <td>1766</td>\n    </tr>\n    <tr>\n      <th>10</th>\n      <td>deep-learning</td>\n      <td>1173</td>\n    </tr>\n    <tr>\n      <th>0</th>\n      <td>neural-network</td>\n      <td>1032</td>\n    </tr>\n    <tr>\n      <th>16</th>\n      <td>keras</td>\n      <td>913</td>\n    </tr>\n    <tr>\n      <th>1</th>\n      <td>classification</td>\n      <td>666</td>\n    </tr>\n    <tr>\n      <th>17</th>\n      <td>tensorflow</td>\n      <td>569</td>\n    </tr>\n    <tr>\n      <th>46</th>\n      <td>scikit-learn</td>\n      <td>527</td>\n    </tr>\n    <tr>\n      <th>34</th>\n      <td>nlp</td>\n      <td>480</td>\n    </tr>\n    <tr>\n      <th>13</th>\n      <td>cnn</td>\n      <td>475</td>\n    </tr>\n  </tbody>\n</table>\n</div>"
     },
     "metadata": {},
     "execution_count": 125
    }
   ],
   "source": [
    "df_tags_count.sort_values('count',ascending=False).head(10)"
   ]
  },
  {
   "cell_type": "markdown",
   "metadata": {},
   "source": [
    "## Count how many times each tag was viewed.\n"
   ]
  },
  {
   "cell_type": "code",
   "execution_count": 146,
   "metadata": {},
   "outputs": [
    {
     "output_type": "execute_result",
     "data": {
      "text/plain": "                                                Tags  ViewCount\n0           neural-network,classification,regression         44\n1     neural-network,predictive-modeling,correlation         38\n2                                                NaN          0\n3                                                NaN          0\n4  machine-learning,python,data,data-analysis,ana...       1885",
      "text/html": "<div>\n<style scoped>\n    .dataframe tbody tr th:only-of-type {\n        vertical-align: middle;\n    }\n\n    .dataframe tbody tr th {\n        vertical-align: top;\n    }\n\n    .dataframe thead th {\n        text-align: right;\n    }\n</style>\n<table border=\"1\" class=\"dataframe\">\n  <thead>\n    <tr style=\"text-align: right;\">\n      <th></th>\n      <th>Tags</th>\n      <th>ViewCount</th>\n    </tr>\n  </thead>\n  <tbody>\n    <tr>\n      <th>0</th>\n      <td>neural-network,classification,regression</td>\n      <td>44</td>\n    </tr>\n    <tr>\n      <th>1</th>\n      <td>neural-network,predictive-modeling,correlation</td>\n      <td>38</td>\n    </tr>\n    <tr>\n      <th>2</th>\n      <td>NaN</td>\n      <td>0</td>\n    </tr>\n    <tr>\n      <th>3</th>\n      <td>NaN</td>\n      <td>0</td>\n    </tr>\n    <tr>\n      <th>4</th>\n      <td>machine-learning,python,data,data-analysis,ana...</td>\n      <td>1885</td>\n    </tr>\n  </tbody>\n</table>\n</div>"
     },
     "metadata": {},
     "execution_count": 146
    }
   ],
   "source": [
    "df[['Tags','ViewCount']].head()"
   ]
  },
  {
   "cell_type": "code",
   "execution_count": 147,
   "metadata": {},
   "outputs": [],
   "source": [
    "df[['Tags','ViewCount']].dropna(inplace=True)"
   ]
  },
  {
   "cell_type": "code",
   "execution_count": 164,
   "metadata": {},
   "outputs": [],
   "source": [
    "df_tags_view = df[df['ViewCount'] != 0][['Tags','ViewCount']]"
   ]
  },
  {
   "cell_type": "code",
   "execution_count": 165,
   "metadata": {},
   "outputs": [
    {
     "output_type": "execute_result",
     "data": {
      "text/plain": "                                                Tags  ViewCount\n0           neural-network,classification,regression         44\n1     neural-network,predictive-modeling,correlation         38\n4  machine-learning,python,data,data-analysis,ana...       1885\n5  machine-learning,neural-network,deep-learning,...         15\n7                               machine-learning,cnn         69",
      "text/html": "<div>\n<style scoped>\n    .dataframe tbody tr th:only-of-type {\n        vertical-align: middle;\n    }\n\n    .dataframe tbody tr th {\n        vertical-align: top;\n    }\n\n    .dataframe thead th {\n        text-align: right;\n    }\n</style>\n<table border=\"1\" class=\"dataframe\">\n  <thead>\n    <tr style=\"text-align: right;\">\n      <th></th>\n      <th>Tags</th>\n      <th>ViewCount</th>\n    </tr>\n  </thead>\n  <tbody>\n    <tr>\n      <th>0</th>\n      <td>neural-network,classification,regression</td>\n      <td>44</td>\n    </tr>\n    <tr>\n      <th>1</th>\n      <td>neural-network,predictive-modeling,correlation</td>\n      <td>38</td>\n    </tr>\n    <tr>\n      <th>4</th>\n      <td>machine-learning,python,data,data-analysis,ana...</td>\n      <td>1885</td>\n    </tr>\n    <tr>\n      <th>5</th>\n      <td>machine-learning,neural-network,deep-learning,...</td>\n      <td>15</td>\n    </tr>\n    <tr>\n      <th>7</th>\n      <td>machine-learning,cnn</td>\n      <td>69</td>\n    </tr>\n  </tbody>\n</table>\n</div>"
     },
     "metadata": {},
     "execution_count": 165
    }
   ],
   "source": [
    "df_tags_view.head()"
   ]
  },
  {
   "cell_type": "code",
   "execution_count": 214,
   "metadata": {},
   "outputs": [],
   "source": [
    "tags_list_dict = []\n",
    "for n,v in df_tags_view.iterrows():\n",
    "    tags_list = v['Tags'].split(\",\")\n",
    "    for tag in tags_list:\n",
    "        tags_dict2 = {}\n",
    "        tags_dict2[tag] = v['ViewCount']\n",
    "        tags_list_dict.append(tags_dict2)\n",
    ""
   ]
  },
  {
   "cell_type": "code",
   "execution_count": 216,
   "metadata": {},
   "outputs": [],
   "source": [
    "tags_views_sum = {}\n",
    "for i in tags_list_dict:\n",
    "    for k,v in i.items():\n",
    "        if k not in tags_views_sum:\n",
    "            tags_views_sum[k] = v\n",
    "        else:\n",
    "            tags_views_sum[k] += v"
   ]
  },
  {
   "cell_type": "code",
   "execution_count": 226,
   "metadata": {},
   "outputs": [],
   "source": [
    "df_tags_views = pd.DataFrame.from_dict(tags_views_sum,orient='index').reset_index()\n",
    "df_tags_views.rename(columns={'index':'tag',0:'views'},inplace=True)\n",
    ""
   ]
  },
  {
   "cell_type": "code",
   "execution_count": 229,
   "metadata": {},
   "outputs": [
    {
     "output_type": "execute_result",
     "data": {
      "text/plain": "                 tag   views\n6             python  765760\n5   machine-learning  521118\n16             keras  363772\n36            pandas  314896\n10     deep-learning  309666\n0     neural-network  250725\n46      scikit-learn  178536\n17        tensorflow  169772\n1     classification  138442\n63         dataframe  129344",
      "text/html": "<div>\n<style scoped>\n    .dataframe tbody tr th:only-of-type {\n        vertical-align: middle;\n    }\n\n    .dataframe tbody tr th {\n        vertical-align: top;\n    }\n\n    .dataframe thead th {\n        text-align: right;\n    }\n</style>\n<table border=\"1\" class=\"dataframe\">\n  <thead>\n    <tr style=\"text-align: right;\">\n      <th></th>\n      <th>tag</th>\n      <th>views</th>\n    </tr>\n  </thead>\n  <tbody>\n    <tr>\n      <th>6</th>\n      <td>python</td>\n      <td>765760</td>\n    </tr>\n    <tr>\n      <th>5</th>\n      <td>machine-learning</td>\n      <td>521118</td>\n    </tr>\n    <tr>\n      <th>16</th>\n      <td>keras</td>\n      <td>363772</td>\n    </tr>\n    <tr>\n      <th>36</th>\n      <td>pandas</td>\n      <td>314896</td>\n    </tr>\n    <tr>\n      <th>10</th>\n      <td>deep-learning</td>\n      <td>309666</td>\n    </tr>\n    <tr>\n      <th>0</th>\n      <td>neural-network</td>\n      <td>250725</td>\n    </tr>\n    <tr>\n      <th>46</th>\n      <td>scikit-learn</td>\n      <td>178536</td>\n    </tr>\n    <tr>\n      <th>17</th>\n      <td>tensorflow</td>\n      <td>169772</td>\n    </tr>\n    <tr>\n      <th>1</th>\n      <td>classification</td>\n      <td>138442</td>\n    </tr>\n    <tr>\n      <th>63</th>\n      <td>dataframe</td>\n      <td>129344</td>\n    </tr>\n  </tbody>\n</table>\n</div>"
     },
     "metadata": {},
     "execution_count": 229
    }
   ],
   "source": [
    "df_tags_views.sort_values('views',ascending=False).head(10)"
   ]
  },
  {
   "cell_type": "code",
   "execution_count": null,
   "metadata": {},
   "outputs": [],
   "source": []
  }
 ],
 "metadata": {
  "kernelspec": {
   "display_name": "Python 3",
   "language": "python",
   "name": "python3"
  },
  "language_info": {
   "codemirror_mode": {
    "name": "ipython",
    "version": 3
   },
   "file_extension": ".py",
   "mimetype": "text/x-python",
   "name": "python",
   "nbconvert_exporter": "python",
   "pygments_lexer": "ipython3",
   "version": "3.6.4-final"
  }
 },
 "nbformat": 4,
 "nbformat_minor": 4
}